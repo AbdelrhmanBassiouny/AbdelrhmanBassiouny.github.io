{
 "cells": [
  {
   "cell_type": "markdown",
   "metadata": {},
   "source": [
    "## FFT Intuition & Python Implementations: \n",
    "\n",
    "The goal behind this notebook is not just for showing an algorithm implementation, but to go through the process of trying to implement an efficient algorithm to calculate the discrete fourier transfom, and see how a good algorithmic thinking process with a bit of analysis and observation would naturally lead to the fft algoritm.\n",
    "\n",
    "Trying to understand this on my own while scworing the internet for clues and ideas has helped me alot and has definitley enhanced my algorithmic thinking, and I hope it does for you as well, lets dig in!\n",
    "\n",
    "If you are unfamiliar yet with the Fourier Transform I highly recommend [this video by 3Blue1Brown](https://www.youtube.com/watch?v=spUNpyF58BY&list=PLKYWqKMe8hVIK-UgIO15KpMlcGz36aNN3&index=38&t=908s) "
   ]
  },
  {
   "cell_type": "markdown",
   "metadata": {},
   "source": [
    "**Discrete Fourier Transform (DFT):**\n",
    "$$F_k = \\sum_{n=0}^{N-1} g_n \\cdot e^{-i~2\\pi~k~n~/~N}~~~: k=[0, N-1] $$"
   ]
  },
  {
   "cell_type": "markdown",
   "metadata": {},
   "source": [
    "This takes a discrete function $G[n]$ with size $N$, and produces a set of frequency magnitudes $F[k]$ for the frequencies that are available in the discrete function, these frequencies are described by ${\\displaystyle \\frac{k}{N}}$ where $k$ is an integer that belongs to the interval $[0, N-1]$"
   ]
  },
  {
   "cell_type": "markdown",
   "metadata": {},
   "source": [
    "The approach one normally takes when implementing any algorithm would be to first make a naive brute force solution for the problem and see that everything works as expected, and then try to find some optimizations to improve the algorithm's efficiency.\n",
    "\n",
    "A brute force algorithm for the DFT equation would have two nested for loobs, an outer loob going through values of $k$, and an inner loob for the values of $n$ while adding the calculated terms as we go. This yields an algorithm with $\\mathcal{O}[N^2]$ complexity.\n",
    "OK! lets do it and see its performance against the numpy implementation which uses a highly optimized version of the Fast Fourier Transform algorithm which has $\\mathcal{O}[N\\log N]$ complexity."
   ]
  },
  {
   "cell_type": "code",
   "execution_count": 1,
   "metadata": {},
   "outputs": [],
   "source": [
    "import cmath\n",
    "import numpy as np"
   ]
  },
  {
   "cell_type": "code",
   "execution_count": 2,
   "metadata": {},
   "outputs": [],
   "source": [
    "def naive_ft(g):\n",
    "    sz = len(g)\n",
    "    f = []\n",
    "    for k in range(sz):\n",
    "        f.append(0)\n",
    "        for n in range(sz):\n",
    "            f[k] += g[n] * cmath.exp(-2j * cmath.pi * k * n / sz)\n",
    "    return f"
   ]
  },
  {
   "cell_type": "code",
   "execution_count": 3,
   "metadata": {},
   "outputs": [
    {
     "data": {
      "text/plain": [
       "True"
      ]
     },
     "execution_count": 3,
     "metadata": {},
     "output_type": "execute_result"
    }
   ],
   "source": [
    "x = np.random.random(2**10)\n",
    "np.allclose(naive_ft(x), np.fft.fft(x))"
   ]
  },
  {
   "cell_type": "code",
   "execution_count": 4,
   "metadata": {},
   "outputs": [
    {
     "name": "stdout",
     "output_type": "stream",
     "text": [
      "2.82 s ± 32.8 ms per loop (mean ± std. dev. of 7 runs, 1 loop each)\n",
      "32.6 µs ± 467 ns per loop (mean ± std. dev. of 7 runs, 10000 loops each)\n"
     ]
    }
   ],
   "source": [
    "%timeit naive_ft(x)\n",
    "%timeit np.fft.fft(x)"
   ]
  },
  {
   "cell_type": "markdown",
   "metadata": {},
   "source": [
    "Good! Our algorithm works, but $10^{5}$ times slower than the numpy implementation, That's Bad! But no worry we will certainly do better."
   ]
  },
  {
   "cell_type": "markdown",
   "metadata": {},
   "source": [
    "The first idea that comes to my mind when I see a sum of products $\\sum_{n=0}^{N-1} a_n \\cdot b_n$ is the Dot Product between vectors, which is computed very efficiently using numpy. Thus if we make a vector $A$ with all values of $a_n$ and a vector $B$ with all values of $b_n$, the sum of products for all $N$ becomes $A\\cdot B$. But that gets rid of the inner for loob, how about the outer one that goes over the $k$ values? Well turns out we can get rid of it as well if we make the complex term of the DFT a matrix of size $[N*N]$ where rows represent different $k$ values and columns represent different $n$ values. \n",
    "\n",
    "OK! lets vectorize this operation and get rid of those for loobs."
   ]
  },
  {
   "cell_type": "code",
   "execution_count": 5,
   "metadata": {},
   "outputs": [],
   "source": [
    "def vectorized_naive_ft(g):\n",
    "    sz = g.shape[0]  # The discrete function G[n], an (Nx1) vector\n",
    "    k = np.arange(sz).reshape((sz, 1))  # vector containing values of k, with size (Nx1)\n",
    "    n = k  # The n values are the same as k.\n",
    "    power_mat = k.dot(n.T)  # an NxN matrix containing all the possible power of the complex term.\n",
    "    e = np.exp(-2j * np.pi * power_mat / sz) # The complex term, an NxN Matrix\n",
    "    return e.dot(g)"
   ]
  },
  {
   "cell_type": "code",
   "execution_count": 6,
   "metadata": {},
   "outputs": [
    {
     "data": {
      "text/plain": [
       "True"
      ]
     },
     "execution_count": 6,
     "metadata": {},
     "output_type": "execute_result"
    }
   ],
   "source": [
    "x = np.random.random(2**10)\n",
    "np.allclose(vectorized_naive_ft(x), np.fft.fft(x))"
   ]
  },
  {
   "cell_type": "code",
   "execution_count": 7,
   "metadata": {},
   "outputs": [
    {
     "name": "stdout",
     "output_type": "stream",
     "text": [
      "227 ms ± 3.18 ms per loop (mean ± std. dev. of 7 runs, 1 loop each)\n",
      "31.7 µs ± 48.6 ns per loop (mean ± std. dev. of 7 runs, 10000 loops each)\n"
     ]
    }
   ],
   "source": [
    "%timeit vectorized_naive_ft(x)\n",
    "%timeit np.fft.fft(x)"
   ]
  },
  {
   "cell_type": "markdown",
   "metadata": {},
   "source": [
    "OK! That's much better we have become 10 times faster just by vectorizing our operations, but we are still far from the numpy implementation."
   ]
  },
  {
   "cell_type": "markdown",
   "metadata": {},
   "source": [
    "If we don't know any thing about fourier transform and are treating this as a normal equation without analyzing it, we would say that we have reached a dead end in terms of optimizations on the algorithm. Maybe we are doing unnecessary repeated calculations and we don't know about them, or maybe there are symmetries in the calculated terms we can make use of.Thus to optimize further we need to dive into the equation and get our brains dirty with theoritical information. \n",
    "\n",
    "There are two key ideas that we have to observe in the DFT equation which will greatly help us in optimizing our calculations even further."
   ]
  },
  {
   "cell_type": "markdown",
   "metadata": {},
   "source": [
    "### Key Idea 1: Range of possible frequencies depend on number of samples\n",
    "\n",
    "The goal of Fourier Transform is to find the frequencies that our signal have and how  strong each frequency is. But what range of frequencies should we check? and at what resolution (i.e. step)? Fortunately this is easy to answer for discrete finite signals.\n",
    "\n",
    "One just has to find three values, namely, the lowest frequency, the highest frequency, and the frequency step. Well in general, the frequency is (1/period), and in the discrete domain, the period is measured in number of samples. So, the maximum frequency should be (1/minimum_period), obviously the minimum period=1 (i.e. a period of only 1 sample), which means a pattern that repeats every sample (which is often called the DC component of the signal).\n",
    "\n",
    "$$max~freq = 1$$\n",
    "\n",
    "Similarly, we can say the minimum frequency is (1/maximum_period), obviously the maximum period is the total number of samples 'N' in the function.\n",
    "\n",
    "$${min~freq= \\frac{1}{N}}$$\n",
    "                                                \n",
    "Finally the frequency can be described by the period step, thus to cover all possible frequencies in this range, we use the minimum period step = 1 sample. The frequencies are described by this function:\n",
    "\n",
    "$$f(k) = {\\displaystyle \\frac{k}{N}}$$, \n",
    "\n",
    "where k is an integer that belongs to the interval $[1, N]$.\n",
    "\n",
    "The key idea to note here is that the range of possible frequencies is dependent on the number of samples, so if for examples the nunmber of samples were halved, the range of possible frequencies would also be halved.\n",
    "\n",
    "You will notice that in the DFT equation we use the interval $[0, N-1]$ not $[1,N]$ for the values of $k$. Actually both those intervals and infinitly more intervals can be used because of the periodicity of the fourier transform (which is discussed in the second key idea below) where k=0 is same as k=N because the complex term would evaluate to $1$ in both.\n",
    "\n",
    "This may seem irrelevant to optimizing the algorithm but it will actually help us arrive at the idea behind the Fast Fourier Transfrom algorithm."
   ]
  },
  {
   "cell_type": "markdown",
   "metadata": {},
   "source": [
    "### Key Idea 2: Symmetry and Peridoicity in the Discrete Fourier Transform\n",
    "\n",
    "What's really interesting in the fourier transform equation is the complex term (which is what makes the difference in the DFT between different values of k): \n",
    "\n",
    "$$e^{-i~2\\pi~k~n~/~N}$$ \n",
    "\n",
    "If you are a goemetry lover, thinking of complex numbers you think in 2-D, in other words you think of the complex plane, so it would definitely be interesting to visualize how this term behaves with different values of $n$ and $k$ in the complex plane."
   ]
  },
  {
   "cell_type": "code",
   "execution_count": 8,
   "metadata": {},
   "outputs": [],
   "source": [
    "import matplotlib.pyplot as plt\n",
    "\n",
    "%matplotlib inline"
   ]
  },
  {
   "cell_type": "code",
   "execution_count": 9,
   "metadata": {},
   "outputs": [
    {
     "data": {
      "image/png": "[encoded data removed]",
      "text/plain": [
       "<matplotlib.figure.Figure at 0x7f2b65d88e10>"
      ]
     },
     "metadata": {
      "needs_background": "light"
     },
     "output_type": "display_data"
    }
   ],
   "source": [
    "n_samples = 2**3\n",
    "g = np.random.random(n_samples)\n",
    "K = np.arange(n_samples).reshape(n_samples, 1)\n",
    "N = K\n",
    "c_term = np.exp(-2j * np.pi * K.dot(N.T) / n_samples)\n",
    "f, ax = plt.subplots(2,n_samples//2,sharex='col',sharey='row', figsize=(20,10))\n",
    "i = j = 0\n",
    "for k in range(n_samples):\n",
    "    if k < n_samples//2:\n",
    "        j = k \n",
    "        i = 0\n",
    "    else:\n",
    "        j = k - n_samples//2\n",
    "        i = 1\n",
    "    for n in range(n_samples):\n",
    "        x = np.real(c_term[k][n])\n",
    "        y = np.imag(c_term[k][n])\n",
    "        ax[i][j].scatter(x, y, label='n={}'.format(n))\n",
    "    ax[i][j].grid()\n",
    "    ax[i][j].legend()\n",
    "    ax[i][j].set_title(\"k = {}\".format(k))"
   ]
  },
  {
   "cell_type": "markdown",
   "metadata": {},
   "source": [
    "Having a fast look, Tells us there's certainly some similarity between the values of $k$, but we need to point down what that similarity really is.\n",
    "\n",
    "Looking at $k=0$ and $k=4$, I can't figure out how to relate them, but i can see that $k=0$ has only one value which is $1$, while $k=4$ has only two values either $1$ or $-1$.\n",
    "\n",
    "I move on to $k=1$ and $k=5$ because they certainly look similar, well for $n=0, 2, 4, 6$ the complex term at $k=1$ equals that at $k=5$, while for $n=1, 3, 5, 7$ the complex term at $k=1$ equals negative that at $k=5$. This maybe true also for $k=3, 7$, $k=0, 4$ and $k=2, 6$ but i can't say for sure because the values of $n$ overlab each other.\n",
    "\n",
    "OK! this seems interesting, we could say that for even values of $n$ the **complex term at $k =$ complex term at $\\frac{N}{2} + k$**, while for odd values of $n$ the **complex term at $k =$ negative complex term at $\\frac{N}{2} + k$**\n",
    "\n",
    "But this isn't hard proof, this is just an observation, so to prove it we really have to go to algebra and see if we can obtain the same results."
   ]
  },
  {
   "cell_type": "markdown",
   "metadata": {},
   "source": [
    "**Discrete Fourier Transform (DFT) at $k=k$:**\n",
    "$$F_k = \\sum_{n=0}^{N-1} g_n \\cdot e^{-i~2\\pi~k~n~/~N}~~~: k=[0, N-1] $$"
   ]
  },
  {
   "cell_type": "markdown",
   "metadata": {},
   "source": [
    "**Discrete Fourier Transform (DFT) at $k=\\frac{N}{2}+k$:**\n",
    "$$~~~~~~~~~~~~~~~F_{(\\frac{N}{2}+k)} = \\sum_{n=0}^{N-1} g_n \\cdot e^{-i~2\\pi~(\\frac{N}{2}+k)~n~/~N}~~~: k=[0, \\frac{N}{2}-1] $$\n",
    "$$= \\sum_{n=0}^{N-1} g_n \\cdot e^{-i\\pi~n}\\cdot e^{-i~2\\pi~k~n~/~N}$$"
   ]
  },
  {
   "cell_type": "markdown",
   "metadata": {},
   "source": [
    "Hmm! We find that this term $e^{-i\\pi~n}$ which is a function of $n$ only, is really what makes the difference between $F_k$ and $F_{(\\frac{N}{2}+k)}$, but what does that evaluate to at different values of $n$ ?"
   ]
  },
  {
   "cell_type": "markdown",
   "metadata": {},
   "source": [
    "If we know complex numbers, then we know eulers formula which states:\n",
    "$$e^{i\\theta} = \\cos{\\theta} + i\\sin{\\theta}$$"
   ]
  },
  {
   "cell_type": "markdown",
   "metadata": {},
   "source": [
    "Then\n",
    "$$e^{-i\\pi~n} = \\cos{(\\pi~n)}-i\\sin{(\\pi~n)}$$"
   ]
  },
  {
   "cell_type": "markdown",
   "metadata": {},
   "source": [
    "From trignometry we know that $\\sin{(\\pi~n)} = 0$ , for all positive integer values of $n$:\n",
    "$$\\sin{(0)} = 0$$\n",
    "$$\\sin{(\\pi)} = 0$$\n",
    "$$\\sin{(2\\pi)} = 0$$\n",
    "$$\\sin{(3\\pi)} = 0$$\n",
    "$$.$$\n",
    "$$.$$\n",
    "$$.$$\n",
    "$$\\sin{(\\pi~n)} = 0$$\n",
    "\n",
    "Similarly $\\cos{(\\pi~n)} = (-1)^{n}$ since it is $1$ for even values of $n$ and $-1$ for odd values of $n$ for all positive integer values of $n$:\n",
    "$$\\cos{(0)} = 1$$\n",
    "$$\\cos{(\\pi)} = -1$$\n",
    "$$\\cos{(2\\pi)} = 1$$\n",
    "$$\\cos{(3\\pi)} = -1$$\n",
    "$$.$$\n",
    "$$.$$\n",
    "$$.$$\n",
    "$$\\cos{(\\pi~n)} = (-1)^{n}$$"
   ]
  },
  {
   "cell_type": "markdown",
   "metadata": {},
   "source": [
    "Therfore the additional term that we found in $F_{(\\frac{N}{2}+k)}$ reduces to:\n",
    "$$e^{-i\\pi~n} = (-1)^{n}$$"
   ]
  },
  {
   "cell_type": "markdown",
   "metadata": {},
   "source": [
    "Finally:\n",
    "$$F_{(\\frac{N}{2}+k)} = \\sum_{n=0}^{N-1} g_n \\cdot (-1)^{n}\\cdot e^{-i~2\\pi~k~n~/~N}$$"
   ]
  },
  {
   "cell_type": "markdown",
   "metadata": {},
   "source": [
    "so if $n$ is even (i.e. instead of $n$ we put $2n$ to give even values only):\n",
    "$$F_{(\\frac{N}{2}+k),~n=2n} = \\sum_{n=0}^{\\frac{N}{2}-1} g_{2n}\\cdot e^{-i~2\\pi~k~(2n)~/~N} = F_{k,~n=2n}$$\n",
    "\n",
    "$$F_{(\\frac{N}{2}+k),~n=2n} = F_{k,~n=2n}~~~: k=[0, \\frac{N}{2}-1] $$\n",
    "\n",
    "and if $n$ is odd (i.e. instead of $n$ we put $2n+1$ to give odd values only):\n",
    "$$F_{(\\frac{N}{2}+k),~n=2n+1} = -1 * \\sum_{n=0}^{\\frac{N}{2}-1} g_{2n+1}\\cdot e^{-i~2\\pi~k~(2n+1)~/~N} = -F_{k,~n=2n+1}$$\n",
    "\n",
    "$$F_{(\\frac{N}{2}+k),~n=2n+1} = -F_{k,~n=2n+1}~~~~: k=[0, \\frac{N}{2}-1] $$"
   ]
  },
  {
   "cell_type": "markdown",
   "metadata": {},
   "source": [
    "Aha!, we have found a great optimization that allows to compute only half the values of $k$ which are in the interval $[0, \\frac{N}{2}-1]$ and then simply derive other half of the interval from what we have calculated in the first half, **But don't get confused we are still calculating $N$ number of frequencies, what we do is we compute the first half in a slow way and the second half of the interval in a faster way**.\n",
    "\n",
    "It would be convenient to **split the big summation of $F_k$ into two smaller summations**, one for even values of $n$ that we call $F_{k,~2n}$, and one for odd values of $n$ that we call $F_{k,~2n+1}$, because we will use them in the calculation of the other half interval of $k$ ( i.e in the calculation of $F_{(\\frac{N}{2}+k)}$ )."
   ]
  },
  {
   "cell_type": "markdown",
   "metadata": {},
   "source": [
    "The first N/2 number of frequencies [0, N/2] are calculated using this equation:\n",
    "\n",
    "$$F_k = F_{k,~2n} + F_{k,~2n+1}$$\n",
    "\n",
    "The second N/2 number of frequencies [N/2, N-1] are calculated using this equation:\n",
    "\n",
    "$$F_{(\\frac{N}{2}+k)} = F_{k,~2n} - F_{k,~2n+1}$$"
   ]
  },
  {
   "cell_type": "markdown",
   "metadata": {},
   "source": [
    "$$F_{k,~2n} = \\sum_{n=0}^{\\frac{N}{2}-1} g_{2n}\\cdot e^{-i~2\\pi~k~(2n)~/~N}$$\n",
    "$$F_{k,~2n+1} = \\sum_{n=0}^{\\frac{N}{2}-1} g_{2n+1}\\cdot e^{-i~2\\pi~k~(2n+1)~/~N}$$"
   ]
  },
  {
   "cell_type": "markdown",
   "metadata": {},
   "source": [
    "Before we go any further lets test what we have reached so far and see that everything works."
   ]
  },
  {
   "cell_type": "code",
   "execution_count": 10,
   "metadata": {},
   "outputs": [],
   "source": [
    "def vectorized_not_so_naive_ft(g):\n",
    "    sz = g.shape[0]  # The discrete function G[n], an (Nx1) vector\n",
    "    \n",
    "    if np.log2(sz) % 1 > 0:\n",
    "        raise ValueError(\"must be a power of 2\")\n",
    "        \n",
    "    g_even = g[::2] # even indices of G[n] (i.e. G[2n]) an (N/2 x 1) vector\n",
    "    g_odd = g[1::2] # odd indices of G[n] (i.e. G[2n+1]) an (N/2 x 1) vector\n",
    "    \n",
    "    k = np.arange(sz//2).reshape((sz//2, 1))  # vector containing values of k[0,N/2 - 1], with size (N/2)x1\n",
    "    \n",
    "    n_even = np.arange(start=0,stop=sz,step=2).reshape((sz//2, 1)) # the even n values an (N/2 x 1) vector\n",
    "    n_odd = np.arange(start=1,stop=sz,step=2).reshape((sz//2, 1)) # the odd n values an (N/2 x 1) vector\n",
    "    \n",
    "    power_mat_even = k.dot(n_even.T)# an N/2xN/2 matrix containing all the possible power of the even complex term.\n",
    "    power_mat_odd = k.dot(n_odd.T) # same but for the odd\n",
    "    \n",
    "    e_even = np.exp(-2j * np.pi * power_mat_even / sz) # The complex term of the even part, an N/2xN/2 Matrix\n",
    "    e_odd = np.exp(-2j * np.pi * power_mat_odd / sz)# The complex term of the odd part, an N/2xN/2 Matrix\n",
    "    \n",
    "    f_k_2n = e_even.dot(g_even) # F_k,2n\n",
    "    f_k_2n_1 = e_odd.dot(g_odd) # F_k,2n+1\n",
    "  \n",
    "    f_k = np.hstack([f_k_2n + f_k_2n_1, # the first half of the interval of k [0, N/2 -1]\n",
    "                     f_k_2n - f_k_2n_1])# the second half of the interval of k [N/2, N-1]\n",
    "    return f_k"
   ]
  },
  {
   "cell_type": "code",
   "execution_count": 11,
   "metadata": {},
   "outputs": [
    {
     "data": {
      "text/plain": [
       "True"
      ]
     },
     "execution_count": 11,
     "metadata": {},
     "output_type": "execute_result"
    }
   ],
   "source": [
    "x = np.random.random(2**10)\n",
    "np.allclose(vectorized_not_so_naive_ft(x), np.fft.fft(x))"
   ]
  },
  {
   "cell_type": "code",
   "execution_count": 12,
   "metadata": {},
   "outputs": [
    {
     "name": "stdout",
     "output_type": "stream",
     "text": [
      "135 ms ± 203 µs per loop (mean ± std. dev. of 7 runs, 10 loops each)\n",
      "224 ms ± 1.89 ms per loop (mean ± std. dev. of 7 runs, 1 loop each)\n"
     ]
    }
   ],
   "source": [
    "%timeit vectorized_not_so_naive_ft(x)\n",
    "%timeit vectorized_naive_ft(x)"
   ]
  },
  {
   "cell_type": "markdown",
   "metadata": {},
   "source": [
    "Well there's certainly improvement but not enough for all this work that we 've done, actually there's a little tweak remaining that will improve this by alot."
   ]
  },
  {
   "cell_type": "markdown",
   "metadata": {},
   "source": [
    "There's a constant part that doesn't depend on $n$ in the complex term of $F_{k,~2n+1}$, which comes from the $+1$ part of $2n+1$, lets take it out of the summation:\n",
    "$$F_{k,~2n+1} = e^{-i~2\\pi~k~/~N} \\sum_{n=0}^{\\frac{N}{2}-1} g_{2n+1}\\cdot e^{-i~2\\pi~k~(2n)~/~N}$$"
   ]
  },
  {
   "cell_type": "markdown",
   "metadata": {},
   "source": [
    "lets call this term $c_k$ since it depends on $k$, and rename $F_{k,~2n}$ to $F_{k,~even}$ and $F_{k,~2n+1}$ to $c_k F_{k,~odd}$ because it's much easier to read:\n",
    "$$F_{k,~2n+1} = c_k \\sum_{n=0}^{\\frac{N}{2}-1} g_{2n+1}\\cdot e^{-i~2\\pi~k~(2n)~/~N} = c_k F_{k,~odd}$$\n",
    "\n",
    "$$F_{k,~2n} = \\sum_{n=0}^{\\frac{N}{2}-1} g_{2n}\\cdot e^{-i~2\\pi~k~(2n)~/~N} = F_{k,~even}$$\n",
    "\n",
    "$$F_k = F_{k,~even} + c_k F_{k,~odd}$$"
   ]
  },
  {
   "cell_type": "markdown",
   "metadata": {},
   "source": [
    "Now we see that the complex term is the same for $F_{k,~even}$ and $F_{k,~odd}$ now the only difference between them is that one takes the even half of the samples, and the other takes the odd half of samples (also the odd part gets multiplied by $c_k$ when calculating $F_k$ ).\n",
    "\n",
    "Moreover each of $F_{k,~even}$ and $F_{k,~odd}$ are actually replicas of the original problem $F_k$ but with half the samples, This is more evident when we rewrite $F_{k,~even}$ and $F_{k,~odd}$ such that the $(\\frac{2n}{N})$ part in the complex term becomes $(\\frac{n}{N/2})$.\n",
    "\n",
    "$$F_{k,~even} = \\sum_{n=0}^{\\frac{N}{2}-1} g_{2n}\\cdot e^{-i~2\\pi~k~n~/~(N/2)}$$\n",
    "\n",
    "$$F_{k,~odd} = \\sum_{n=0}^{\\frac{N}{2}-1} g_{2n+1}\\cdot e^{-i~2\\pi~k~n~/~(N/2)}$$\n",
    "\n",
    "But is it really half the size? I mean yes we compute half the samples for each but we still compute $N$ number of frequencies? no, actually if you remember **key idea 1** that we discussed, we said that the number of possible different frequencies are equal to the number of samples in the signal, and for the even/odd parts we they have half the number of samples so we only need to compute half the number of frequencies for each of them **(Therefore same problem but half it's size)**.\n",
    "\n",
    "If you have taken any algorithms course or have experience with them in anyway, what I have just said should instantly click in your mind that this is the same as any divide and conquer problem, you start with a big problem, then you split it into to smaller problems of the same type and you keep going until tou can't split any more, the only difference is that we split it into even and odd parts instead of splitting an array from the middle.\n",
    "\n",
    "What we have done so far was only split the problem once into an even and odd part to make use of the symmetry we have found and only calculate half the values of $k$ while other half we easily get from the calculated even and odd parts.\n",
    "\n",
    "So what we should do now is split $F_{k,~even}$ and $F_{k,~odd}$ into another even and odd parts for each one and, and keep doing that until there's only one sample left in each of the last even and odd parts. Finally we compine each even and odd pairs from the bottom (1 sample) to the top (N samples) while making use of the symmetry at each level.\n",
    "\n",
    "**A simple explanantion for how this should be much faster is this:**\n",
    "\n",
    "$~~~~~~$If we have a signal with 8 samples (thus having 8 frequencies), what we have previously done is compute the first 4 frequencies slowly and then compute the remaining 4 from the first 4.\n",
    "\n",
    "$~~~~~~$Now what we are trying to do is compute the 1st frequency slowly, then compute the 2nd frequency from the 1st, and then compute the 3rd & 4th from the 1st & 2nd, finally compute the remaining 4 from the first 4. So the difference here is that we have used the symmetry to it's fullest potential and instead of computing the first 4 samples slowly we have calculated only the 1st sample slowly and the rest came from each other thus calculated much faster.\n",
    "\n",
    "Divide & Conquer goes hand in hand with Recursion, so this can be implemented using recursion, fortunately we have already found the recursion equation:\n",
    "\n",
    "$$F_k = F_{k,~even} + c_k F_{k,~odd}$$"
   ]
  },
  {
   "cell_type": "markdown",
   "metadata": {},
   "source": [
    "what's left now is to implement it:"
   ]
  },
  {
   "cell_type": "code",
   "execution_count": 13,
   "metadata": {},
   "outputs": [],
   "source": [
    "def recursive_fft(g):\n",
    "    sz = g.shape[0]\n",
    "    if sz == 1:\n",
    "        # end of recursion condition (i.e. we can't split anymore, size of dft = 1 sample),\n",
    "        # and there's only one frequency, which is at k = 0, thus the complex term = 1.\n",
    "        return g[0]\n",
    "        \n",
    "    # Calculate the first half part of the dft using recursion (i.e. the interval [0, sz // 2) ).\n",
    "    f_even = recursive_fft(g[::2])  # the 2n (i.e. even) samples of g.\n",
    "    f_odd = recursive_fft(g[1::2])  # the 2n+1 (i.e. odd) samples of g.\n",
    "    \n",
    "    k = np.arange(sz // 2)\n",
    "    ck = np.exp(-2j * np.pi * k / sz)\n",
    "    # Make use of the symmetry to calculate the other half part of the dft (i.e. the interval [sz // 2 , sz) ).\n",
    "    return np.hstack([f_even + ck * f_odd,\n",
    "                     f_even - ck * f_odd])\n",
    "def fft(g):\n",
    "    if np.log2(g.shape[0]) % 1 > 0:\n",
    "        raise ValueError(\"must be a power of 2\")\n",
    "    return recursive_fft(g)"
   ]
  },
  {
   "cell_type": "code",
   "execution_count": 14,
   "metadata": {},
   "outputs": [
    {
     "data": {
      "text/plain": [
       "True"
      ]
     },
     "execution_count": 14,
     "metadata": {},
     "output_type": "execute_result"
    }
   ],
   "source": [
    "x = np.random.random(2**10)\n",
    "np.allclose(fft(x), np.fft.fft(x))"
   ]
  },
  {
   "cell_type": "code",
   "execution_count": 15,
   "metadata": {},
   "outputs": [
    {
     "name": "stdout",
     "output_type": "stream",
     "text": [
      "15.9 ms ± 25.7 µs per loop (mean ± std. dev. of 7 runs, 100 loops each)\n",
      "34.3 µs ± 50.2 ns per loop (mean ± std. dev. of 7 runs, 10000 loops each)\n"
     ]
    }
   ],
   "source": [
    "%timeit fft(x)\n",
    "%timeit np.fft.fft(x)"
   ]
  },
  {
   "cell_type": "markdown",
   "metadata": {},
   "source": [
    "There's a ${10}$ fold improvement from before, but we are still $10^{3}$ times slower than numpy, and this is mainly because of vectorization, we can vectorize this solution and that's it, but we have now an algorithm that is $\\mathcal{O}[N\\log{N}]$, because we have $\\log{N}$ recursion levels (because we can split $\\log{N}$ times) and we do $N$ work at each level."
   ]
  },
  {
   "cell_type": "markdown",
   "metadata": {},
   "source": [
    "To vectorize this recursive algorithm, it's useful to look at the recursion tree ![](img/fft_recursion_tree.png)"
   ]
  },
  {
   "cell_type": "markdown",
   "metadata": {},
   "source": [
    "[Image Source](https://people.eecs.berkeley.edu/~demmel/cs170_spr07/LectureNotes/Lecture_FFT.pdf)"
   ]
  },
  {
   "cell_type": "markdown",
   "metadata": {},
   "source": [
    "Our target is to vectorize each level such that all these level's calculations are done using one vector/matrix product while moving level by level from the bottom of the recursion tree and making use of the symetry at each level. \n",
    "\n",
    "The recurision tree obliges us to compute children before their parents, but nothing more, the order of of the children calculation doesn't matter, and this makes things much easier for us, to see why is this , look at the lowest level of the tree above, the order of the even indices in that level is this $0,2,1,3$, and the odd indices that are paired with these even indices are $4,6,5,7$, now as you can see it's hard to figure out how to get this order right ourselves, but fortunately we don't need to do that at all, we will compute them in the order we want to, as long as we move from bottom to top and we know which are the even parts and which are the odd parts that are paired to them.\n",
    "\n",
    "So we could re-arrange the pairs such that the even indices are $0,1,2,3$ thus the odd indices that are paired with them are $4,5,6,7$ , now you see this is much easier, this is like pairing the first half of the input array with the second half, and this will continue being true as we go up, the first half will be the even pairs, and the second half will be the odd pairs.\n",
    "\n",
    "And that's it! so lets code this and see the results. "
   ]
  },
  {
   "cell_type": "code",
   "execution_count": 18,
   "metadata": {},
   "outputs": [],
   "source": [
    "def vectorized_fft(g):\n",
    "    sz = g.shape[0]\n",
    "    f = np.copy(g).reshape((1, sz))\n",
    "\n",
    "    # Ensure the the discrete function (g) size is a power of 2.\n",
    "    if np.log2(sz) % 1 > 0:\n",
    "        raise ValueError(\"must be a power of 2\")\n",
    "\n",
    "    # Now we just move level by level from bottom to top of the recursion tree.\n",
    "    # Calculating all the level at once, instead of recursively moving through the level pairs/dfts.\n",
    "    # while also making use of the symmetry of the dft as before.\n",
    "    while f.shape[0] < sz:\n",
    "        # size of the dft at this level (i.e. number of samples / frequencies) = 2 * size of previous level.\n",
    "        n = 2 * f.shape[0]\n",
    "        # Get all the even and the odd pairs of the recursion tree at this level.\n",
    "        f_even = f[:, : f.shape[1] // 2] # first half is the even pairs\n",
    "        f_odd = f[:, f.shape[1] // 2:] # second half is the odd pairs\n",
    "        # calculate the complex term for the first half part of the dft (i.e. interval=[0, n // 2) ).\n",
    "        c_k = np.exp(-2j * np.pi * np.arange(n // 2) / n).reshape(n // 2, 1)\n",
    "        # And here we make use of the symmetry of the dft, and calculate 2nd half from 1st half even and odd terms.\n",
    "        f = np.vstack([f_even + c_k * f_odd,\n",
    "                       f_even - c_k * f_odd])\n",
    "    return f.ravel()"
   ]
  },
  {
   "cell_type": "code",
   "execution_count": 19,
   "metadata": {},
   "outputs": [
    {
     "data": {
      "text/plain": [
       "True"
      ]
     },
     "execution_count": 19,
     "metadata": {},
     "output_type": "execute_result"
    }
   ],
   "source": [
    "x = np.random.random(2**10)\n",
    "np.allclose(vectorized_fft(x), np.fft.fft(x))"
   ]
  },
  {
   "cell_type": "code",
   "execution_count": 20,
   "metadata": {},
   "outputs": [
    {
     "name": "stdout",
     "output_type": "stream",
     "text": [
      "454 µs ± 1.54 µs per loop (mean ± std. dev. of 7 runs, 1000 loops each)\n",
      "31.5 µs ± 129 ns per loop (mean ± std. dev. of 7 runs, 10000 loops each)\n"
     ]
    }
   ],
   "source": [
    "%timeit vectorized_fft(x)\n",
    "%timeit np.fft.fft(x)"
   ]
  },
  {
   "cell_type": "markdown",
   "metadata": {},
   "source": [
    "Great! We are about $10^{2}$ times faster than noraml recursive fft, and we are only about $10$ times slower than the numpy implementation, this is because numpy's implementation is done using highly efficient low level implementation, but overal it's similar to this algorithm, congratulations! you have just a very good level of understanding for fft, and dft, and I also hope this helped you enhance your algorithmic thinking process."
   ]
  },
  {
   "cell_type": "markdown",
   "metadata": {},
   "source": [
    "**Resourses & Refrences:**\n",
    "\n",
    "[Recursive Tree Image Source](https://people.eecs.berkeley.edu/~demmel/cs170_spr07/LectureNotes/Lecture_FFT.pdf)\n",
    "\n",
    "Another good resourse for understanding fft is [this](https://jakevdp.github.io/blog/2013/08/28/understanding-the-fft/) which has helped me implement some of the codes."
   ]
  }
 ],
 "metadata": {
  "kernelspec": {
   "display_name": "Python 3",
   "language": "python",
   "name": "python3"
  },
  "language_info": {
   "codemirror_mode": {
    "name": "ipython",
    "version": 3
   },
   "file_extension": ".py",
   "mimetype": "text/x-python",
   "name": "python",
   "nbconvert_exporter": "python",
   "pygments_lexer": "ipython3",
   "version": "3.6.10"
  }
 },
 "nbformat": 4,
 "nbformat_minor": 4
}
